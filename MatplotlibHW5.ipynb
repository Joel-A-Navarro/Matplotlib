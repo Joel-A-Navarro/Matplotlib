{
 "cells": [
  {
   "cell_type": "code",
   "execution_count": 1,
   "id": "c8314813",
   "metadata": {},
   "outputs": [],
   "source": [
    "### Observations\n",
    "### Capomulin and Ramicane are the only two drugs that reached timpoints of over 200 on the bar plot. Ranges 150 to 175 were more of the avearge with the other drugs.\n",
    "### The pie plots indicate that the male/female ratio of the subjects were almost identical with a differnce of 0.8%.\n",
    "### The weight of the subjects correlates with the volume of the tumors as they both increase.\n",
    "\n",
    "# import needed modules\n",
    "import pandas as pd\n",
    "import os\n",
    "import scipy.stats as st\n",
    "import matplotlib.pyplot as plt\n",
    "pd.set_option('display.max_columns', None)"
   ]
  },
  {
   "cell_type": "code",
   "execution_count": 2,
   "id": "9ce29dca",
   "metadata": {},
   "outputs": [],
   "source": [
    "# data set csv file variables\n",
    "mouseData = (\"Mouse_metadata.csv\")\n",
    "studyData = (\"Study_results.csv\")"
   ]
  },
  {
   "cell_type": "code",
   "execution_count": 3,
   "id": "a5c04df6",
   "metadata": {},
   "outputs": [],
   "source": [
    "# read the data sets\n",
    "mouseMetadata = pd.read_csv(mouseData)\n",
    "studyResults = pd.read_csv(studyData)"
   ]
  },
  {
   "cell_type": "code",
   "execution_count": 4,
   "id": "2519c779",
   "metadata": {},
   "outputs": [],
   "source": [
    "# merge data sets \n",
    "rawData = pd.merge(mouseMetadata, studyResults, on=\"Mouse ID\")"
   ]
  },
  {
   "cell_type": "code",
   "execution_count": 5,
   "id": "cb491ecc",
   "metadata": {
    "scrolled": true
   },
   "outputs": [
    {
     "data": {
      "text/html": [
       "<div>\n",
       "<style scoped>\n",
       "    .dataframe tbody tr th:only-of-type {\n",
       "        vertical-align: middle;\n",
       "    }\n",
       "\n",
       "    .dataframe tbody tr th {\n",
       "        vertical-align: top;\n",
       "    }\n",
       "\n",
       "    .dataframe thead th {\n",
       "        text-align: right;\n",
       "    }\n",
       "</style>\n",
       "<table border=\"1\" class=\"dataframe\">\n",
       "  <thead>\n",
       "    <tr style=\"text-align: right;\">\n",
       "      <th></th>\n",
       "      <th>Mouse ID</th>\n",
       "      <th>Drug Regimen</th>\n",
       "      <th>Sex</th>\n",
       "      <th>Age_months</th>\n",
       "      <th>Weight (g)</th>\n",
       "      <th>Timepoint</th>\n",
       "      <th>Tumor Volume (mm3)</th>\n",
       "      <th>Metastatic Sites</th>\n",
       "    </tr>\n",
       "  </thead>\n",
       "  <tbody>\n",
       "    <tr>\n",
       "      <th>0</th>\n",
       "      <td>k403</td>\n",
       "      <td>Ramicane</td>\n",
       "      <td>Male</td>\n",
       "      <td>21</td>\n",
       "      <td>16</td>\n",
       "      <td>0</td>\n",
       "      <td>45.000000</td>\n",
       "      <td>0</td>\n",
       "    </tr>\n",
       "    <tr>\n",
       "      <th>1</th>\n",
       "      <td>k403</td>\n",
       "      <td>Ramicane</td>\n",
       "      <td>Male</td>\n",
       "      <td>21</td>\n",
       "      <td>16</td>\n",
       "      <td>5</td>\n",
       "      <td>38.825898</td>\n",
       "      <td>0</td>\n",
       "    </tr>\n",
       "    <tr>\n",
       "      <th>2</th>\n",
       "      <td>k403</td>\n",
       "      <td>Ramicane</td>\n",
       "      <td>Male</td>\n",
       "      <td>21</td>\n",
       "      <td>16</td>\n",
       "      <td>10</td>\n",
       "      <td>35.014271</td>\n",
       "      <td>1</td>\n",
       "    </tr>\n",
       "    <tr>\n",
       "      <th>3</th>\n",
       "      <td>k403</td>\n",
       "      <td>Ramicane</td>\n",
       "      <td>Male</td>\n",
       "      <td>21</td>\n",
       "      <td>16</td>\n",
       "      <td>15</td>\n",
       "      <td>34.223992</td>\n",
       "      <td>1</td>\n",
       "    </tr>\n",
       "    <tr>\n",
       "      <th>4</th>\n",
       "      <td>k403</td>\n",
       "      <td>Ramicane</td>\n",
       "      <td>Male</td>\n",
       "      <td>21</td>\n",
       "      <td>16</td>\n",
       "      <td>20</td>\n",
       "      <td>32.997729</td>\n",
       "      <td>1</td>\n",
       "    </tr>\n",
       "  </tbody>\n",
       "</table>\n",
       "</div>"
      ],
      "text/plain": [
       "  Mouse ID Drug Regimen   Sex  Age_months  Weight (g)  Timepoint  \\\n",
       "0     k403     Ramicane  Male          21          16          0   \n",
       "1     k403     Ramicane  Male          21          16          5   \n",
       "2     k403     Ramicane  Male          21          16         10   \n",
       "3     k403     Ramicane  Male          21          16         15   \n",
       "4     k403     Ramicane  Male          21          16         20   \n",
       "\n",
       "   Tumor Volume (mm3)  Metastatic Sites  \n",
       "0           45.000000                 0  \n",
       "1           38.825898                 0  \n",
       "2           35.014271                 1  \n",
       "3           34.223992                 1  \n",
       "4           32.997729                 1  "
      ]
     },
     "execution_count": 5,
     "metadata": {},
     "output_type": "execute_result"
    }
   ],
   "source": [
    "rawData.head()"
   ]
  },
  {
   "cell_type": "code",
   "execution_count": 6,
   "id": "5c12dfa8",
   "metadata": {},
   "outputs": [
    {
     "data": {
      "text/html": [
       "<div>\n",
       "<style scoped>\n",
       "    .dataframe tbody tr th:only-of-type {\n",
       "        vertical-align: middle;\n",
       "    }\n",
       "\n",
       "    .dataframe tbody tr th {\n",
       "        vertical-align: top;\n",
       "    }\n",
       "\n",
       "    .dataframe thead th {\n",
       "        text-align: right;\n",
       "    }\n",
       "</style>\n",
       "<table border=\"1\" class=\"dataframe\">\n",
       "  <thead>\n",
       "    <tr style=\"text-align: right;\">\n",
       "      <th></th>\n",
       "      <th></th>\n",
       "      <th>Mouse ID</th>\n",
       "    </tr>\n",
       "    <tr>\n",
       "      <th>Mouse ID</th>\n",
       "      <th>Timepoint</th>\n",
       "      <th></th>\n",
       "    </tr>\n",
       "  </thead>\n",
       "  <tbody>\n",
       "    <tr>\n",
       "      <th>l897</th>\n",
       "      <th>45</th>\n",
       "      <td>1</td>\n",
       "    </tr>\n",
       "    <tr>\n",
       "      <th>j913</th>\n",
       "      <th>45</th>\n",
       "      <td>1</td>\n",
       "    </tr>\n",
       "    <tr>\n",
       "      <th>g791</th>\n",
       "      <th>45</th>\n",
       "      <td>1</td>\n",
       "    </tr>\n",
       "    <tr>\n",
       "      <th>h246</th>\n",
       "      <th>45</th>\n",
       "      <td>1</td>\n",
       "    </tr>\n",
       "    <tr>\n",
       "      <th>i177</th>\n",
       "      <th>45</th>\n",
       "      <td>1</td>\n",
       "    </tr>\n",
       "    <tr>\n",
       "      <th>...</th>\n",
       "      <th>...</th>\n",
       "      <td>...</td>\n",
       "    </tr>\n",
       "    <tr>\n",
       "      <th>t994</th>\n",
       "      <th>0</th>\n",
       "      <td>1</td>\n",
       "    </tr>\n",
       "    <tr>\n",
       "      <th>g867</th>\n",
       "      <th>0</th>\n",
       "      <td>1</td>\n",
       "    </tr>\n",
       "    <tr>\n",
       "      <th>t724</th>\n",
       "      <th>0</th>\n",
       "      <td>1</td>\n",
       "    </tr>\n",
       "    <tr>\n",
       "      <th>g989</th>\n",
       "      <th>0</th>\n",
       "      <td>2</td>\n",
       "    </tr>\n",
       "    <tr>\n",
       "      <th>a203</th>\n",
       "      <th>0</th>\n",
       "      <td>1</td>\n",
       "    </tr>\n",
       "  </tbody>\n",
       "</table>\n",
       "<p>1888 rows × 1 columns</p>\n",
       "</div>"
      ],
      "text/plain": [
       "                    Mouse ID\n",
       "Mouse ID Timepoint          \n",
       "l897     45                1\n",
       "j913     45                1\n",
       "g791     45                1\n",
       "h246     45                1\n",
       "i177     45                1\n",
       "...                      ...\n",
       "t994     0                 1\n",
       "g867     0                 1\n",
       "t724     0                 1\n",
       "g989     0                 2\n",
       "a203     0                 1\n",
       "\n",
       "[1888 rows x 1 columns]"
      ]
     },
     "execution_count": 6,
     "metadata": {},
     "output_type": "execute_result"
    }
   ],
   "source": [
    "# locating duplicate mice \n",
    "grouped = rawData.copy().groupby([\"Mouse ID\", \"Timepoint\"]).agg({\"Mouse ID\": \"count\"}).sort_values(\"Timepoint\", ascending=False)\n",
    "grouped"
   ]
  },
  {
   "cell_type": "code",
   "execution_count": 7,
   "id": "c0820b7e",
   "metadata": {
    "scrolled": true
   },
   "outputs": [
    {
     "data": {
      "text/html": [
       "<div>\n",
       "<style scoped>\n",
       "    .dataframe tbody tr th:only-of-type {\n",
       "        vertical-align: middle;\n",
       "    }\n",
       "\n",
       "    .dataframe tbody tr th {\n",
       "        vertical-align: top;\n",
       "    }\n",
       "\n",
       "    .dataframe thead th {\n",
       "        text-align: right;\n",
       "    }\n",
       "</style>\n",
       "<table border=\"1\" class=\"dataframe\">\n",
       "  <thead>\n",
       "    <tr style=\"text-align: right;\">\n",
       "      <th></th>\n",
       "      <th>Mouse ID</th>\n",
       "      <th>Drug Regimen</th>\n",
       "      <th>Sex</th>\n",
       "      <th>Age_months</th>\n",
       "      <th>Weight (g)</th>\n",
       "      <th>Timepoint</th>\n",
       "      <th>Tumor Volume (mm3)</th>\n",
       "      <th>Metastatic Sites</th>\n",
       "    </tr>\n",
       "  </thead>\n",
       "  <tbody>\n",
       "    <tr>\n",
       "      <th>0</th>\n",
       "      <td>k403</td>\n",
       "      <td>Ramicane</td>\n",
       "      <td>Male</td>\n",
       "      <td>21</td>\n",
       "      <td>16</td>\n",
       "      <td>0</td>\n",
       "      <td>45.000000</td>\n",
       "      <td>0</td>\n",
       "    </tr>\n",
       "    <tr>\n",
       "      <th>1</th>\n",
       "      <td>k403</td>\n",
       "      <td>Ramicane</td>\n",
       "      <td>Male</td>\n",
       "      <td>21</td>\n",
       "      <td>16</td>\n",
       "      <td>5</td>\n",
       "      <td>38.825898</td>\n",
       "      <td>0</td>\n",
       "    </tr>\n",
       "    <tr>\n",
       "      <th>2</th>\n",
       "      <td>k403</td>\n",
       "      <td>Ramicane</td>\n",
       "      <td>Male</td>\n",
       "      <td>21</td>\n",
       "      <td>16</td>\n",
       "      <td>10</td>\n",
       "      <td>35.014271</td>\n",
       "      <td>1</td>\n",
       "    </tr>\n",
       "    <tr>\n",
       "      <th>3</th>\n",
       "      <td>k403</td>\n",
       "      <td>Ramicane</td>\n",
       "      <td>Male</td>\n",
       "      <td>21</td>\n",
       "      <td>16</td>\n",
       "      <td>15</td>\n",
       "      <td>34.223992</td>\n",
       "      <td>1</td>\n",
       "    </tr>\n",
       "    <tr>\n",
       "      <th>4</th>\n",
       "      <td>k403</td>\n",
       "      <td>Ramicane</td>\n",
       "      <td>Male</td>\n",
       "      <td>21</td>\n",
       "      <td>16</td>\n",
       "      <td>20</td>\n",
       "      <td>32.997729</td>\n",
       "      <td>1</td>\n",
       "    </tr>\n",
       "    <tr>\n",
       "      <th>...</th>\n",
       "      <td>...</td>\n",
       "      <td>...</td>\n",
       "      <td>...</td>\n",
       "      <td>...</td>\n",
       "      <td>...</td>\n",
       "      <td>...</td>\n",
       "      <td>...</td>\n",
       "      <td>...</td>\n",
       "    </tr>\n",
       "    <tr>\n",
       "      <th>1888</th>\n",
       "      <td>z969</td>\n",
       "      <td>Naftisol</td>\n",
       "      <td>Male</td>\n",
       "      <td>9</td>\n",
       "      <td>30</td>\n",
       "      <td>25</td>\n",
       "      <td>63.145652</td>\n",
       "      <td>2</td>\n",
       "    </tr>\n",
       "    <tr>\n",
       "      <th>1889</th>\n",
       "      <td>z969</td>\n",
       "      <td>Naftisol</td>\n",
       "      <td>Male</td>\n",
       "      <td>9</td>\n",
       "      <td>30</td>\n",
       "      <td>30</td>\n",
       "      <td>65.841013</td>\n",
       "      <td>3</td>\n",
       "    </tr>\n",
       "    <tr>\n",
       "      <th>1890</th>\n",
       "      <td>z969</td>\n",
       "      <td>Naftisol</td>\n",
       "      <td>Male</td>\n",
       "      <td>9</td>\n",
       "      <td>30</td>\n",
       "      <td>35</td>\n",
       "      <td>69.176246</td>\n",
       "      <td>4</td>\n",
       "    </tr>\n",
       "    <tr>\n",
       "      <th>1891</th>\n",
       "      <td>z969</td>\n",
       "      <td>Naftisol</td>\n",
       "      <td>Male</td>\n",
       "      <td>9</td>\n",
       "      <td>30</td>\n",
       "      <td>40</td>\n",
       "      <td>70.314904</td>\n",
       "      <td>4</td>\n",
       "    </tr>\n",
       "    <tr>\n",
       "      <th>1892</th>\n",
       "      <td>z969</td>\n",
       "      <td>Naftisol</td>\n",
       "      <td>Male</td>\n",
       "      <td>9</td>\n",
       "      <td>30</td>\n",
       "      <td>45</td>\n",
       "      <td>73.867845</td>\n",
       "      <td>4</td>\n",
       "    </tr>\n",
       "  </tbody>\n",
       "</table>\n",
       "<p>1880 rows × 8 columns</p>\n",
       "</div>"
      ],
      "text/plain": [
       "     Mouse ID Drug Regimen   Sex  Age_months  Weight (g)  Timepoint  \\\n",
       "0        k403     Ramicane  Male          21          16          0   \n",
       "1        k403     Ramicane  Male          21          16          5   \n",
       "2        k403     Ramicane  Male          21          16         10   \n",
       "3        k403     Ramicane  Male          21          16         15   \n",
       "4        k403     Ramicane  Male          21          16         20   \n",
       "...       ...          ...   ...         ...         ...        ...   \n",
       "1888     z969     Naftisol  Male           9          30         25   \n",
       "1889     z969     Naftisol  Male           9          30         30   \n",
       "1890     z969     Naftisol  Male           9          30         35   \n",
       "1891     z969     Naftisol  Male           9          30         40   \n",
       "1892     z969     Naftisol  Male           9          30         45   \n",
       "\n",
       "      Tumor Volume (mm3)  Metastatic Sites  \n",
       "0              45.000000                 0  \n",
       "1              38.825898                 0  \n",
       "2              35.014271                 1  \n",
       "3              34.223992                 1  \n",
       "4              32.997729                 1  \n",
       "...                  ...               ...  \n",
       "1888           63.145652                 2  \n",
       "1889           65.841013                 3  \n",
       "1890           69.176246                 4  \n",
       "1891           70.314904                 4  \n",
       "1892           73.867845                 4  \n",
       "\n",
       "[1880 rows x 8 columns]"
      ]
     },
     "execution_count": 7,
     "metadata": {},
     "output_type": "execute_result"
    }
   ],
   "source": [
    "# removal of duplicate mice\n",
    "cleanData = rawData.copy()\n",
    "cleanData = cleanData.drop(cleanData[cleanData[\"Mouse ID\"] == \"g989\"].index)\n",
    "cleanData"
   ]
  },
  {
   "cell_type": "code",
   "execution_count": 8,
   "id": "242b228f",
   "metadata": {},
   "outputs": [
    {
     "data": {
      "text/html": [
       "<div>\n",
       "<style scoped>\n",
       "    .dataframe tbody tr th:only-of-type {\n",
       "        vertical-align: middle;\n",
       "    }\n",
       "\n",
       "    .dataframe tbody tr th {\n",
       "        vertical-align: top;\n",
       "    }\n",
       "\n",
       "    .dataframe thead th {\n",
       "        text-align: right;\n",
       "    }\n",
       "</style>\n",
       "<table border=\"1\" class=\"dataframe\">\n",
       "  <thead>\n",
       "    <tr style=\"text-align: right;\">\n",
       "      <th></th>\n",
       "      <th>Mean</th>\n",
       "      <th>Median</th>\n",
       "      <th>Variance</th>\n",
       "      <th>Standard Deviation</th>\n",
       "      <th>SEM</th>\n",
       "    </tr>\n",
       "    <tr>\n",
       "      <th>Drug Regimen</th>\n",
       "      <th></th>\n",
       "      <th></th>\n",
       "      <th></th>\n",
       "      <th></th>\n",
       "      <th></th>\n",
       "    </tr>\n",
       "  </thead>\n",
       "  <tbody>\n",
       "    <tr>\n",
       "      <th>Capomulin</th>\n",
       "      <td>40.675741</td>\n",
       "      <td>41.557809</td>\n",
       "      <td>24.947764</td>\n",
       "      <td>4.994774</td>\n",
       "      <td>0.329346</td>\n",
       "    </tr>\n",
       "    <tr>\n",
       "      <th>Ceftamin</th>\n",
       "      <td>52.591172</td>\n",
       "      <td>51.776157</td>\n",
       "      <td>39.290177</td>\n",
       "      <td>6.268188</td>\n",
       "      <td>0.469821</td>\n",
       "    </tr>\n",
       "    <tr>\n",
       "      <th>Infubinol</th>\n",
       "      <td>52.884795</td>\n",
       "      <td>51.820584</td>\n",
       "      <td>43.128684</td>\n",
       "      <td>6.567243</td>\n",
       "      <td>0.492236</td>\n",
       "    </tr>\n",
       "    <tr>\n",
       "      <th>Ketapril</th>\n",
       "      <td>55.235638</td>\n",
       "      <td>53.698743</td>\n",
       "      <td>68.553577</td>\n",
       "      <td>8.279709</td>\n",
       "      <td>0.603860</td>\n",
       "    </tr>\n",
       "    <tr>\n",
       "      <th>Naftisol</th>\n",
       "      <td>54.331565</td>\n",
       "      <td>52.509285</td>\n",
       "      <td>66.173479</td>\n",
       "      <td>8.134708</td>\n",
       "      <td>0.596466</td>\n",
       "    </tr>\n",
       "    <tr>\n",
       "      <th>Placebo</th>\n",
       "      <td>54.033581</td>\n",
       "      <td>52.288934</td>\n",
       "      <td>61.168083</td>\n",
       "      <td>7.821003</td>\n",
       "      <td>0.581331</td>\n",
       "    </tr>\n",
       "    <tr>\n",
       "      <th>Propriva</th>\n",
       "      <td>52.320930</td>\n",
       "      <td>50.446266</td>\n",
       "      <td>43.852013</td>\n",
       "      <td>6.622085</td>\n",
       "      <td>0.544332</td>\n",
       "    </tr>\n",
       "    <tr>\n",
       "      <th>Ramicane</th>\n",
       "      <td>40.216745</td>\n",
       "      <td>40.673236</td>\n",
       "      <td>23.486704</td>\n",
       "      <td>4.846308</td>\n",
       "      <td>0.320955</td>\n",
       "    </tr>\n",
       "    <tr>\n",
       "      <th>Stelasyn</th>\n",
       "      <td>54.233149</td>\n",
       "      <td>52.431737</td>\n",
       "      <td>59.450562</td>\n",
       "      <td>7.710419</td>\n",
       "      <td>0.573111</td>\n",
       "    </tr>\n",
       "    <tr>\n",
       "      <th>Zoniferol</th>\n",
       "      <td>53.236507</td>\n",
       "      <td>51.818479</td>\n",
       "      <td>48.533355</td>\n",
       "      <td>6.966589</td>\n",
       "      <td>0.516398</td>\n",
       "    </tr>\n",
       "  </tbody>\n",
       "</table>\n",
       "</div>"
      ],
      "text/plain": [
       "                   Mean     Median   Variance  Standard Deviation       SEM\n",
       "Drug Regimen                                                               \n",
       "Capomulin     40.675741  41.557809  24.947764            4.994774  0.329346\n",
       "Ceftamin      52.591172  51.776157  39.290177            6.268188  0.469821\n",
       "Infubinol     52.884795  51.820584  43.128684            6.567243  0.492236\n",
       "Ketapril      55.235638  53.698743  68.553577            8.279709  0.603860\n",
       "Naftisol      54.331565  52.509285  66.173479            8.134708  0.596466\n",
       "Placebo       54.033581  52.288934  61.168083            7.821003  0.581331\n",
       "Propriva      52.320930  50.446266  43.852013            6.622085  0.544332\n",
       "Ramicane      40.216745  40.673236  23.486704            4.846308  0.320955\n",
       "Stelasyn      54.233149  52.431737  59.450562            7.710419  0.573111\n",
       "Zoniferol     53.236507  51.818479  48.533355            6.966589  0.516398"
      ]
     },
     "execution_count": 8,
     "metadata": {},
     "output_type": "execute_result"
    }
   ],
   "source": [
    "# sort by mean, median, standard deviation and scanning electron microscopy in a clean data frame\n",
    "drugRegimenTumSum_df = pd.DataFrame({\n",
    "    \"Mean\": cleanData.groupby(\"Drug Regimen\")[\"Tumor Volume (mm3)\"].mean(),\n",
    "    \"Median\": cleanData.groupby(\"Drug Regimen\")[\"Tumor Volume (mm3)\"].median(),\n",
    "    \"Variance\": cleanData.groupby(\"Drug Regimen\")[\"Tumor Volume (mm3)\"].var(),\n",
    "    \"Standard Deviation\": cleanData.groupby(\"Drug Regimen\")[\"Tumor Volume (mm3)\"].std(),\n",
    "    \"SEM\": cleanData.groupby(\"Drug Regimen\")[\"Tumor Volume (mm3)\"].sem()\n",
    "})\n",
    "drugRegimenTumSum_df"
   ]
  },
  {
   "cell_type": "code",
   "execution_count": 16,
   "id": "ed7dc07d",
   "metadata": {},
   "outputs": [
    {
     "data": {
      "image/png": "[encoded data removed]",
      "text/plain": [
       "<Figure size 432x288 with 1 Axes>"
      ]
     },
     "metadata": {
      "needs_background": "light"
     },
     "output_type": "display_data"
    }
   ],
   "source": [
    "# number of timepoints for all mice tested on pandas bar plot as per instruction\n",
    "timepoints = cleanData.groupby([\"Drug Regimen\"]).agg({\"Timepoint\": \"count\"})\n",
    "timepoints.plot(kind=\"bar\", rot=80)\n",
    "plt.show()"
   ]
  },
  {
   "cell_type": "code",
   "execution_count": 21,
   "id": "ec9051fd",
   "metadata": {},
   "outputs": [
    {
     "data": {
      "image/png": "[encoded data removed]",
      "text/plain": [
       "<Figure size 432x288 with 1 Axes>"
      ]
     },
     "metadata": {
      "needs_background": "light"
     },
     "output_type": "display_data"
    }
   ],
   "source": [
    "# number of timepoints for all mice tested on matplotlib bar plot as per instruction\n",
    "x_axis = cleanData[\"Drug Regimen\"].unique()\n",
    "plt.bar(x_axis, timepoints[\"Timepoint\"])\n",
    "plt.xlabel(\"Drug Regimen\")\n",
    "plt.xticks(rotation=80)\n",
    "plt.ylabel(\"Timepoint count\")\n",
    "plt.show()"
   ]
  },
  {
   "cell_type": "code",
   "execution_count": 30,
   "id": "71e38c82",
   "metadata": {},
   "outputs": [
    {
     "data": {
      "image/png": "[encoded data removed]",
      "text/plain": [
       "<Figure size 432x288 with 1 Axes>"
      ]
     },
     "metadata": {},
     "output_type": "display_data"
    }
   ],
   "source": [
    "# distrubution of female or male mice on pandas as per instruction\n",
    "maleFemale = cleanData.groupby(\"Sex\").nunique()[\"Mouse ID\"]\n",
    "maleFemale.plot(kind=\"pie\", autopct='%1.2f%%', startangle=180)\n",
    "plt.show()"
   ]
  },
  {
   "cell_type": "code",
   "execution_count": 32,
   "id": "0aa2cc37",
   "metadata": {},
   "outputs": [
    {
     "data": {
      "image/png": "[encoded data removed]",
      "text/plain": [
       "<Figure size 432x288 with 1 Axes>"
      ]
     },
     "metadata": {},
     "output_type": "display_data"
    }
   ],
   "source": [
    "# distrubution of female or male mice on matplotlib as per instruction\n",
    "labels = [\"Female\", \"Male\"]\n",
    "fig1, ax1 = plt.subplots()\n",
    "ax1.pie(maleFemale, labels=labels, autopct='%1.2f%%', startangle=180)\n",
    "ax1.axis('equal')\n",
    "plt.show()"
   ]
  },
  {
   "cell_type": "code",
   "execution_count": 33,
   "id": "31245e7c",
   "metadata": {},
   "outputs": [],
   "source": [
    "# calcuate the final tumor value of each mouse across four of the most promising treatments as per instruction\n",
    "Capomulin = cleanData.loc[cleanData[\"Drug Regimen\"] == \"Capomulin\"]\\\n",
    "    .groupby(\"Mouse ID\").agg({\"Tumor Volume (mm3)\": \"last\"})\n",
    "Ramaicane = cleanData.loc[cleanData[\"Drug Regimen\"] == \"Ramicane\"]\\\n",
    "    .groupby(\"Mouse ID\").agg({\"Tumor Volume (mm3)\": \"last\"})\n",
    "Infubinol = cleanData.loc[cleanData[\"Drug Regimen\"] == \"Infubinol\"]\\\n",
    "    .groupby(\"Mouse ID\").agg({\"Tumor Volume (mm3)\": \"last\"})\n",
    "Ceftamin = cleanData.loc[cleanData[\"Drug Regimen\"] == \"Ceftamin\"]\\\n",
    "    .groupby(\"Mouse ID\").agg({\"Tumor Volume (mm3)\": \"last\"})"
   ]
  },
  {
   "cell_type": "code",
   "execution_count": 37,
   "id": "a9ae32fa",
   "metadata": {},
   "outputs": [
    {
     "name": "stdout",
     "output_type": "stream",
     "text": [
      "The lower quartile of temperatures is: 32.37735684\n",
      "The upper quartile of temperatures is: 40.1592203\n",
      "The interquartile range of temperatures is: 7.781863460000004\n",
      "The the median of temperatures is: 38.1251644 \n",
      "Lower outlier = \n",
      "Empty DataFrame\n",
      "Columns: [Tumor Volume (mm3)]\n",
      "Index: []\n",
      "Upper outliers = \n",
      "Empty DataFrame\n",
      "Columns: [Tumor Volume (mm3)]\n",
      "Index: []\n",
      "The lower quartile of temperatures is: 31.56046955\n",
      "The upper quartile of temperatures is: 40.65900627\n",
      "The interquartile range of temperatures is: 9.098536719999998\n",
      "The the median of temperatures is: 36.56165229 \n",
      "Lower outlier = \n",
      "Empty DataFrame\n",
      "Columns: [Tumor Volume (mm3)]\n",
      "Index: []\n",
      "Upper outliers = \n",
      "Empty DataFrame\n",
      "Columns: [Tumor Volume (mm3)]\n",
      "Index: []\n",
      "The lower quartile of temperatures is: 54.04860769\n",
      "The upper quartile of temperatures is: 65.52574285\n",
      "The interquartile range of temperatures is: 11.477135160000003\n",
      "The the median of temperatures is: 60.16518046 \n",
      "Lower outlier = \n",
      "          Tumor Volume (mm3)\n",
      "Mouse ID                    \n",
      "c326               36.321346\n",
      "Upper outliers = \n",
      "Empty DataFrame\n",
      "Columns: [Tumor Volume (mm3)]\n",
      "Index: []\n",
      "The lower quartile of temperatures is: 48.72207785\n",
      "The upper quartile of temperatures is: 64.29983003\n",
      "The interquartile range of temperatures is: 15.577752179999997\n",
      "The the median of temperatures is: 59.85195552 \n",
      "Lower outlier = \n",
      "Empty DataFrame\n",
      "Columns: [Tumor Volume (mm3)]\n",
      "Index: []\n",
      "Upper outliers = \n",
      "Empty DataFrame\n",
      "Columns: [Tumor Volume (mm3)]\n",
      "Index: []\n"
     ]
    }
   ],
   "source": [
    "# calculate the quartiles and IQR and determine if there are any potential outliers\n",
    "drugRegimen = [Capomulin, Ramaicane, Infubinol, Ceftamin]\n",
    "for x in drugRegimen:\n",
    "    quartiles = x[\"Tumor Volume (mm3)\"].quantile([.25,.5,.75])\n",
    "    lowerq = quartiles[.25]\n",
    "    upperq = quartiles[.75]\n",
    "    iqr = upperq-lowerq\n",
    "    print(f\"The lower quartile of temperatures is: {lowerq}\")\n",
    "    print(f\"The upper quartile of temperatures is: {upperq}\")\n",
    "    print(f\"The interquartile range of temperatures is: {iqr}\")\n",
    "    print(f\"The the median of temperatures is: {quartiles[0.5]} \")\n",
    "    lowerBound = lowerq - (1.5*iqr)\n",
    "    upperBound = upperq + (1.5*iqr)\n",
    "    print(f'Lower outlier = \\n{x[x[\"Tumor Volume (mm3)\"] < lowerBound]}')\n",
    "    print(f'Upper outliers = \\n{x[x[\"Tumor Volume (mm3)\"] > upperBound]}')"
   ]
  },
  {
   "cell_type": "code",
   "execution_count": 53,
   "id": "7a607944",
   "metadata": {},
   "outputs": [
    {
     "data": {
      "image/png": "[encoded data removed]",
      "text/plain": [
       "<Figure size 648x432 with 1 Axes>"
      ]
     },
     "metadata": {
      "needs_background": "light"
     },
     "output_type": "display_data"
    }
   ],
   "source": [
    "# generate a box and whisker plot of the final tumor volume for all four treatments\n",
    "fig, ax = plt.subplots(figsize=(9, 6))\n",
    "ax.boxplot([Capomulin[\"Tumor Volume (mm3)\"],\n",
    "            Ramaicane[\"Tumor Volume (mm3)\"],\n",
    "            Infubinol[\"Tumor Volume (mm3)\"],\n",
    "            Ceftamin[\"Tumor Volume (mm3)\"]],\n",
    "          flierprops = {'markerfacecolor' : 'red'})\n",
    "ax.set_xticklabels([\"Capomulin\", \"Ramaicane\", \"Infubinol\", \"Ceftamin\"])\n",
    "plt.title(\"Capomulin, Ramaicane, Infubinol, Ceftamin Tumor's\")\n",
    "plt.ylabel(\"Final Tumor Volume\")\n",
    "plt.show()"
   ]
  },
  {
   "cell_type": "code",
   "execution_count": 45,
   "id": "6ecd8f38",
   "metadata": {},
   "outputs": [
    {
     "data": {
      "image/png": "[encoded data removed]",
      "text/plain": [
       "<Figure size 432x288 with 1 Axes>"
      ]
     },
     "metadata": {
      "needs_background": "light"
     },
     "output_type": "display_data"
    }
   ],
   "source": [
    "# select mouse treated with Capomulin and generate a line plot of tumor volume vs time point\n",
    "l509_tum = cleanData.loc[cleanData[\"Mouse ID\"] == \"l509\"][\"Tumor Volume (mm3)\"]\n",
    "l509_time = cleanData.loc[cleanData[\"Mouse ID\"] == \"l509\"][\"Timepoint\"]\n",
    "plt.plot(l509_time, l509_tum)\n",
    "plt.xlabel(\"Timepoint\")\n",
    "plt.ylabel(\"Tumor Volume\")\n",
    "plt.title(\"Mouse ID: l509 Tumor vs. Time\")\n",
    "plt.show()"
   ]
  },
  {
   "cell_type": "code",
   "execution_count": 51,
   "id": "ad65b5a9",
   "metadata": {},
   "outputs": [
    {
     "data": {
      "image/png": "[encoded data removed]",
      "text/plain": [
       "<Figure size 432x288 with 1 Axes>"
      ]
     },
     "metadata": {
      "needs_background": "light"
     },
     "output_type": "display_data"
    }
   ],
   "source": [
    "# generate a scatter plot of tumor volume vs weight for the Capomulin treatment\n",
    "CapomulinAvg = cleanData.loc[cleanData[\"Drug Regimen\"] == \"Capomulin\"]\\\n",
    "    .groupby(\"Mouse ID\").agg({\"Tumor Volume (mm3)\": \"mean\"})\n",
    "CapomulinWeight = cleanData.loc[cleanData[\"Drug Regimen\"] == \"Capomulin\"]\\\n",
    "    .groupby(\"Mouse ID\").agg({\"Weight (g)\": \"mean\"})\n",
    "plt.scatter(CapomulinAvg, CapomulinWeight)\n",
    "plt.xlabel(\"Capomulin Tumor Volume\")\n",
    "plt.ylabel(\"Subject Weight (g)\")\n",
    "plt.title(\"Capomulin Tumor Vol vs Weight\")\n",
    "plt.show()"
   ]
  },
  {
   "cell_type": "code",
   "execution_count": 50,
   "id": "ffc2c3c5",
   "metadata": {},
   "outputs": [
    {
     "data": {
      "image/png": "[encoded data removed]",
      "text/plain": [
       "<Figure size 432x288 with 1 Axes>"
      ]
     },
     "metadata": {
      "needs_background": "light"
     },
     "output_type": "display_data"
    }
   ],
   "source": [
    "# calculate the correlation of coefficient and linear regression model between mouse weight and average tumor volume for the capomulin treatment\n",
    "result = st.linregress(\n",
    "    cleanData[cleanData[\"Drug Regimen\"] == \"Capomulin\"][\"Weight (g)\"],\n",
    "    cleanData[cleanData[\"Drug Regimen\"] == \"Capomulin\"][\"Tumor Volume (mm3)\"]\n",
    ")\n",
    "plt.scatter(\n",
    "    cleanData[cleanData[\"Drug Regimen\"] == \"Capomulin\"][\"Weight (g)\"],\n",
    "    cleanData[cleanData[\"Drug Regimen\"] == \"Capomulin\"][\"Tumor Volume (mm3)\"]\n",
    ")\n",
    "formula = result.slope * cleanData[cleanData[\"Drug Regimen\"] == \"Capomulin\"][\"Weight (g)\"] + result.intercept\n",
    "plt.plot(\n",
    "    cleanData[cleanData[\"Drug Regimen\"] == \"Capomulin\"][\"Weight (g)\"],\n",
    "    formula,\n",
    "    color='red',\n",
    "    label=f'y = {\"{:.2f}\".format(result.slope)}x + {\"{:.2f}\".format(result.intercept)}'\n",
    ")\n",
    "plt.xlabel(\"Capomulin Subject Weight (g)\")\n",
    "plt.ylabel(\"Capomulin Subject Tumor Volume\")\n",
    "plt.title(\"Capomulin Weight vs Tumor Volume\")\n",
    "plt.legend(loc='lower right')\n",
    "plt.show()"
   ]
  },
  {
   "cell_type": "code",
   "execution_count": null,
   "id": "14916f05",
   "metadata": {},
   "outputs": [],
   "source": [
    "# end data"
   ]
  }
 ],
 "metadata": {
  "kernelspec": {
   "display_name": "Python 3",
   "language": "python",
   "name": "python3"
  },
  "language_info": {
   "codemirror_mode": {
    "name": "ipython",
    "version": 3
   },
   "file_extension": ".py",
   "mimetype": "text/x-python",
   "name": "python",
   "nbconvert_exporter": "python",
   "pygments_lexer": "ipython3",
   "version": "3.8.8"
  }
 },
 "nbformat": 4,
 "nbformat_minor": 5
}
